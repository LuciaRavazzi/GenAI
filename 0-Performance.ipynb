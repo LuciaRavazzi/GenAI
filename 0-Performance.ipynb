{
 "cells": [
  {
   "cell_type": "markdown",
   "metadata": {},
   "source": [
    "#### **Performance**\n",
    "\n",
    "The two main points about deployed models are quality and speed:\n",
    "- Smaller models are cheaper, faster and usually can lead to good quality results\n",
    "- Bigger models are more expensive, slower and usually can bring to really good results\n",
    "\n",
    "Moreover, consistency is a key aspect since it allow us to control the results of our model. \n",
    "\n",
    "To evaluate the performance of a model, crewai offers an evaluation frameworrk based on an **judge LLM** which gives us a table with some quality score. The performance is based on a comparison between the output of a task and the ecpected output. \n",
    "\n",
    "It's also possible to give a human feedback to crew. So, for each run, the crew can be stopped and judged by a human which in turn will be taken by a judge LLM and finally by a memory. "
   ]
  }
 ],
 "metadata": {
  "language_info": {
   "name": "python"
  }
 },
 "nbformat": 4,
 "nbformat_minor": 2
}
